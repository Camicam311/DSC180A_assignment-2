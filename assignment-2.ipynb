{
 "cells": [
  {
   "cell_type": "code",
   "execution_count": 50,
   "metadata": {},
   "outputs": [],
   "source": [
    "import geopandas as gpd\n",
    "import pandas as pd\n",
    "import numpy as np\n",
    "import json\n",
    "import os"
   ]
  },
  {
   "cell_type": "code",
   "execution_count": 51,
   "metadata": {},
   "outputs": [],
   "source": [
    "# Misc:\n",
    "web_base = 'https://data.sandiego.gov/datasets/?department=police'"
   ]
  },
  {
   "cell_type": "markdown",
   "metadata": {},
   "source": [
    "#### What we want to keep as a general outline for data\n",
    "\n",
    "stop_id\n",
    "\n",
    "stop_cause / reason_for_stop\n",
    "\n",
    "result_of_stop\n",
    "\n",
    "stopdate\n",
    "\n",
    "stoptime\n",
    "\n",
    "service_area\n",
    "\n",
    "block\n",
    "\n",
    "subject_race / race --> map to race codes\n",
    "\n",
    "beat (new) --> map to service area\n",
    "\n",
    "actions_taken (new)\n",
    "\n",
    "officer_assignment_key (new)\n",
    "\n",
    "exp_years (new)\n",
    "\n",
    "stopduration (new)\n",
    "\n",
    "perceived_age (new)"
   ]
  },
  {
   "cell_type": "code",
   "execution_count": 52,
   "metadata": {},
   "outputs": [],
   "source": [
    "def get_table(yr):\n",
    "    if yr < 2018:\n",
    "        url = 'http://seshat.datasd.org/pd/vehicle_stops_{}_datasd_v1.csv'.format(yr)\n",
    "        return pd.read_csv(url)\n",
    "    \n",
    "    else: # post- 2018\n",
    "        # cols we care about\n",
    "        cols_2018 = ['stop_id', 'pid', 'date_stop', 'time_stop', 'stopduration', \n",
    "                 'officer_assignment_key', 'exp_years', 'beat', \n",
    "                 'perceived_age', 'gend']\n",
    "\n",
    "        url = 'http://seshat.datasd.org/pd/ripa_stops_datasd_v1.csv'\n",
    "        df = pd.read_csv(url)\n",
    "        return df[cols_2018]"
   ]
  },
  {
   "cell_type": "markdown",
   "metadata": {},
   "source": [
    "### columns we still need:\n",
    "\n",
    "stop_cause / reason_for_stop\n",
    "\n",
    "result_of_stop\n",
    "\n",
    "actions_taken "
   ]
  },
  {
   "cell_type": "code",
   "execution_count": 53,
   "metadata": {},
   "outputs": [],
   "source": [
    "# other tables for POST- 2018\n",
    "def get_merge_data():\n",
    "    reason = 'stop_reason'\n",
    "    reason_cols = ['stop_id', 'pid', 'reason_for_stop', 'reason_for_stopcode']\n",
    "\n",
    "    result = 'stop_result'\n",
    "    result_cols= ['stop_id', 'pid', 'result']\n",
    "\n",
    "    race = 'race'\n",
    "    race_cols = ['stop_id', 'pid', 'race']\n",
    "\n",
    "    action = 'actions_taken'\n",
    "    action_cols = ['stop_id', 'pid', 'action']\n",
    "\n",
    "    base = 'http://seshat.datasd.org/pd/ripa_{}_datasd.csv'\n",
    "\n",
    "    reason_df = pd.read_csv(base.format(reason))\n",
    "    result_df = pd.read_csv(base.format(result))\n",
    "    race_df = pd.read_csv(base.format(race))\n",
    "    action_df = pd.read_csv(base.format(action))\n",
    "    \n",
    "    return [[reason_cols, result_cols, race_cols, action_cols], [reason_df, result_df, race_df, action_df]]"
   ]
  },
  {
   "cell_type": "code",
   "execution_count": 54,
   "metadata": {},
   "outputs": [],
   "source": [
    "# get all the new cols from other urls\n",
    "def gen_cols(df1, gen_df, cols):\n",
    "    new = df1.merge(gen_df, on = ['stop_id', 'pid'])\n",
    "    drop = [x for x in new.columns if x not in cols]\n",
    "    new = new.drop(columns = drop).drop_duplicates(subset = ['stop_id', 'pid'])\n",
    "    return new"
   ]
  },
  {
   "cell_type": "code",
   "execution_count": 55,
   "metadata": {},
   "outputs": [],
   "source": [
    "def merge_data(tbl):\n",
    "    merge_cols = get_merge_data()[0]\n",
    "    merge_dfs = get_merge_data()[1]\n",
    "    merged = []\n",
    "\n",
    "    for i in range(len(merge_dfs)):\n",
    "        merged.append(gen_cols(tbl, merge_dfs[i], merge_cols[i]))\n",
    "          \n",
    "    first = merged[0]\n",
    "    for i in range(0, len(merged)):\n",
    "        if i == len(merged) - 1:\n",
    "            break \n",
    "        first = pd.merge(first, merged[i + 1], on =  ['stop_id', 'pid'])\n",
    "\n",
    "    df = pd.merge(tbl, first, on = ['stop_id', 'pid'])\n",
    "    df = df.drop_duplicates(subset = ['stop_id', 'pid'])\n",
    "    return df"
   ]
  },
  {
   "cell_type": "markdown",
   "metadata": {},
   "source": [
    "### Clean column names\n",
    "\n",
    "* These are the same: 'stop_id', 'date_stop', 'time_stop', 'service_area', 'subject_race'/'Race Code', 'subject_sex'/'gend',\n",
    "\n",
    "\n",
    "* These are excess for post- 2018: 'beat', 'officer_assignment_key', 'exp_years', 'perceived_age'\n",
    "\n",
    "\n",
    "* These are excess for pre- 2018: \n",
    "    - 'sd_resident'\n",
    "    - 'arrested'\n",
    "    - 'searched'\n",
    "    - 'obtained_consent'\n",
    "    - 'contraband_found'\n",
    "    - 'property_seized'\n",
    "\n",
    "\n",
    "&rightarrow;  Therefore: Need to make 'subject_race' == 'Race Code' and  'subject_sex' == 'gend'\n",
    "\n",
    "\n",
    "* Additionally for pre- 2018, need to engineer: 'outcome'\n",
    "\n",
    "    -  from ['arrested', 'searched', 'property_seized'] in pre- 2018 and ['action', 'result'] in post- 2018\n",
    "\n",
    "\n",
    "* Columns we are ok with having lots of null values because they are useful for analysis:\n",
    "\n",
    "    - 'sd_resident'\n",
    "    - 'beat'\n",
    "    - 'officer_assignment_key'\n",
    "    - 'exp_years'\n",
    "    - 'perceived_age'"
   ]
  },
  {
   "cell_type": "code",
   "execution_count": 56,
   "metadata": {},
   "outputs": [],
   "source": [
    "# only for PRE- 2018\n",
    "def change_bool(string):\n",
    "        if (string == 'Y') | (string =='y'):\n",
    "            return 1\n",
    "        if (string == 'N') | (string == 'n'):\n",
    "            return 0\n",
    "        return np.nan\n",
    "\n",
    "def map_bool(cols, df):\n",
    "    for col in cols:\n",
    "        if col not in list(df.columns):\n",
    "            continue\n",
    "        df[col] = df[col].apply(lambda x: change_bool(x))\n",
    "    return df\n",
    "\n",
    "# only for POST- 2018\n",
    "def change_sex(x):\n",
    "    if (x == 1.0) | (x == 1):\n",
    "        return 'M'\n",
    "    elif (x == 2.0) | (x == 2):\n",
    "        return 'F'\n",
    "    else:\n",
    "        return np.nan\n",
    "\n",
    "def map_sex(col):\n",
    "    return col.apply(lambda x: change_sex(x))"
   ]
  },
  {
   "cell_type": "code",
   "execution_count": 57,
   "metadata": {},
   "outputs": [],
   "source": [
    "# accounts for both formats\n",
    "def clean_bool(df, yr):\n",
    "    if yr < 2018:\n",
    "        c = ['sd_resident', 'searched', 'contraband_found', 'property_seized', 'arrested']\n",
    "        \n",
    "        return map_bool(c, df)\n",
    "    \n",
    "    else:\n",
    "        df['gend'] = map_sex(df['gend'])\n",
    "        return df"
   ]
  },
  {
   "cell_type": "code",
   "execution_count": 232,
   "metadata": {},
   "outputs": [],
   "source": [
    "def clean_age(df, age_col = 'percieved_driver_age'):\n",
    "    cts = df[age_col].value_counts() \n",
    "    bad_age = cts[cts <= 10].index\n",
    "    return df[~df[age_col].isin(bad_age)]"
   ]
  },
  {
   "cell_type": "code",
   "execution_count": 233,
   "metadata": {},
   "outputs": [],
   "source": [
    "# need for veil of darkness\n",
    "def clean_time(df):\n",
    "    df['time_stop'] = pd.to_datetime(df['time_stop'], format= '%H:%M', errors='coerce')\n",
    "    return df"
   ]
  },
  {
   "cell_type": "markdown",
   "metadata": {},
   "source": [
    "### columns we still need to map:\n",
    "\n",
    "subject_race / race - map to race codes\n",
    "\n",
    "beat - map to service area"
   ]
  },
  {
   "cell_type": "code",
   "execution_count": 58,
   "metadata": {},
   "outputs": [],
   "source": [
    "# only for POST- 2018\n",
    "def map_race(df):\n",
    "    # engineered from existing file\n",
    "    # race_codes = 'http://seshat.datasd.org/pd/vehicle_stops_race_codes.csv'\n",
    "    # and intution\n",
    "\n",
    "    race_dict = {\n",
    "     'Asian' : 'A',\n",
    "     'OTHER ASIAN': 'A',\n",
    "     'Middle Eastern or South Asian': 'M',\n",
    "     'BLACK': 'B',\n",
    "     'CHINESE': 'C',\n",
    "     'CAMBODIAN': 'D',\n",
    "     'FILIPINO': 'F',\n",
    "     'GUAMANIAN': 'G',\n",
    "     'HISPANIC': 'H',\n",
    "     'Hispanic/Latino/a': 'H',\n",
    "     'INDIAN': 'I',\n",
    "     'JAPANESE': 'J',\n",
    "     'KOREAN': 'K',\n",
    "     'LAOTIAN': 'L',\n",
    "     'OTHER': 'O',\n",
    "     'PACIFIC ISLANDER': 'P',\n",
    "     'Pacific Islander': 'P',\n",
    "     'SAMOAN': 'S',\n",
    "     'HAWAIIAN': 'U',\n",
    "     'VIETNAMESE': 'V',\n",
    "     'WHITE': 'W',\n",
    "     'White': 'W',\n",
    "     'ASIAN INDIAN': 'Z',\n",
    "     'Native American': 'N'\n",
    "    }\n",
    "    df['Race Code'] = df['race'].map(race_dict)\n",
    "    return df\n",
    "\n",
    "# only for POST- 2018\n",
    "def map_service_area(df):\n",
    "    stop_beats = 'http://seshat.datasd.org/sde/pd/pd_beats_datasd.geojson'\n",
    "    beats = gpd.read_file(stop_beats)\n",
    "    # get unique beats\n",
    "    unique_beats = beats[['beat', 'serv']].drop_duplicates('beat')\n",
    "    beat_dict = dict(zip(unique_beats.beat, unique_beats.serv))\n",
    "    df['service_area'] = df['beat'].map(beat_dict)\n",
    "    return df"
   ]
  },
  {
   "cell_type": "code",
   "execution_count": 71,
   "metadata": {},
   "outputs": [],
   "source": [
    "def rename_cols(df, yr):\n",
    "    if yr < 2018:\n",
    "        df = df.rename(columns={'subject_age': 'percieved_driver_age', 'subject_sex': 'driver_sex', \n",
    "                                'subject_race': 'driver_race'})\n",
    "        return df\n",
    "    else:\n",
    "        df = df.rename(columns={'perceived_age': 'percieved_driver_age', 'gend': 'driver_sex', \n",
    "                                'Race Code': 'driver_race', 'reason_for_stop': 'stop_cause'})\n",
    "        return df"
   ]
  },
  {
   "cell_type": "code",
   "execution_count": 60,
   "metadata": {},
   "outputs": [],
   "source": [
    "# Outcome possible values: \n",
    "\n",
    "# 'None'\n",
    "# 'Warning (verbal or written)' \n",
    "# 'Search of property was conducted' \n",
    "# 'Property was seized' >> property seized\n",
    "# 'Custodial Arrest without warrant'\n",
    "\n",
    "def check_outcome(row, year):\n",
    "    if year < 2018:\n",
    "        # check 'arrested', 'searched', 'property_seized'\n",
    "        if row.arrested == 1.0:\n",
    "            return 'Arrest'\n",
    "        elif row.property_seized == 1.0:\n",
    "            return 'Property was seized'\n",
    "        elif row.searched == 1.0:\n",
    "            return 'Search of property was conducted'\n",
    "        return 'Not Applicable'\n",
    "        \n",
    "    else:\n",
    "        a = row.action\n",
    "        r = row.result\n",
    "        \n",
    "        # check worst outcome first\n",
    "        if r == 'Custodial Arrest without warrant':\n",
    "            return r\n",
    "        elif (a == 'Search of property was conducted') | (a == 'Property was seized'):\n",
    "            return a\n",
    "        elif r == 'Warning (verbal or written)':\n",
    "            return r\n",
    "        \n",
    "        return 'Not Applicable'\n",
    "    \n",
    "def outcome_map(df, yr):\n",
    "    df_copy = df.copy()\n",
    "    df_copy['outcome'] = df_copy.apply(lambda x: check_outcome(x, yr), axis=1)\n",
    "    \n",
    "    if yr < 2018:\n",
    "        return df_copy.drop(columns=['arrested', 'property_seized', 'searched', 'obtained_consent', 'contraband_found'])\n",
    "        \n",
    "    return df_copy.drop(columns=['action', 'result'])"
   ]
  },
  {
   "cell_type": "code",
   "execution_count": 225,
   "metadata": {},
   "outputs": [],
   "source": [
    "def pre_2018_format(df, yr):\n",
    "    df = clean_bool(df, yr)\n",
    "    df = rename_cols(df, yr)\n",
    "    df = clean_age(df)\n",
    "    df = clean_time(df)\n",
    "    df = outcome_map(df, yr)\n",
    "    return df\n",
    "\n",
    "def post_2018_format(df, yr):\n",
    "    df = clean_bool(df, yr)\n",
    "    df = map_race(df)\n",
    "    df = map_service_area(df)\n",
    "    df = rename_cols(df, yr)\n",
    "    df = clean_age(df)\n",
    "    df = clean_time(df)\n",
    "    df = outcome_map(df, yr)\n",
    "    return df"
   ]
  },
  {
   "cell_type": "code",
   "execution_count": 87,
   "metadata": {},
   "outputs": [],
   "source": [
    "def format_df(df, yr):\n",
    "    if yr < 2018:\n",
    "        cols = ['stop_id', 'stop_cause', 'date_stop', 'time_stop', 'outcome', 'service_area', 'driver_race', \n",
    "                'driver_sex', 'percieved_driver_age', 'sd_resident']\n",
    "        df = pre_2018_format(df, yr)\n",
    "        return df[cols]\n",
    "    \n",
    "    else:\n",
    "        cols = ['stop_id', 'pid', 'stop_cause', 'reason_for_stopcode', 'date_stop', 'time_stop', 'stopduration', \n",
    "                'outcome', 'beat', 'service_area', 'driver_race', 'driver_sex', 'percieved_driver_age',\n",
    "                'officer_assignment_key', 'exp_years', 'year']\n",
    "        df = post_2018_format(df, yr)\n",
    "        \n",
    "        # check for last duplicate\n",
    "        df = df.drop_duplicates(subset = ['stop_id', 'date_stop', 'time_stop', 'beat', 'officer_assignment_key'])\n",
    "        \n",
    "        # add year column for future concating / analysis by year\n",
    "        df['year'] = [yr] * df.shape[0]\n",
    "    \n",
    "        return df[cols]"
   ]
  },
  {
   "cell_type": "code",
   "execution_count": 67,
   "metadata": {},
   "outputs": [],
   "source": [
    "def get_data(yr):\n",
    "    tbl = get_table(yr)\n",
    "    if yr < 2018:\n",
    "        return format_df(tbl, yr)\n",
    "\n",
    "    else:\n",
    "        df = merge_data(tbl)\n",
    "        return format_df(df, yr)"
   ]
  },
  {
   "cell_type": "markdown",
   "metadata": {},
   "source": [
    "# Part 1"
   ]
  },
  {
   "cell_type": "markdown",
   "metadata": {},
   "source": [
    "#### Cleaning\n",
    "Perform an initial EDA to statistically assess the quality of the data and its appropriateness for addressing the problem at hand, justifying data cleaning logic. This will likely address issues with accuracy, precision, and missingness of specific attributes, tying these issues to their possible impact over eventual results."
   ]
  },
  {
   "cell_type": "code",
   "execution_count": 18,
   "metadata": {},
   "outputs": [
    {
     "data": {
      "text/html": [
       "<div>\n",
       "<style scoped>\n",
       "    .dataframe tbody tr th:only-of-type {\n",
       "        vertical-align: middle;\n",
       "    }\n",
       "\n",
       "    .dataframe tbody tr th {\n",
       "        vertical-align: top;\n",
       "    }\n",
       "\n",
       "    .dataframe thead th {\n",
       "        text-align: right;\n",
       "    }\n",
       "</style>\n",
       "<table border=\"1\" class=\"dataframe\">\n",
       "  <thead>\n",
       "    <tr style=\"text-align: right;\">\n",
       "      <th></th>\n",
       "      <th>stop_id</th>\n",
       "      <th>stop_cause</th>\n",
       "      <th>service_area</th>\n",
       "      <th>subject_race</th>\n",
       "      <th>subject_sex</th>\n",
       "      <th>subject_age</th>\n",
       "      <th>date_time</th>\n",
       "      <th>date_stop</th>\n",
       "      <th>time_stop</th>\n",
       "      <th>sd_resident</th>\n",
       "      <th>arrested</th>\n",
       "      <th>searched</th>\n",
       "      <th>obtained_consent</th>\n",
       "      <th>contraband_found</th>\n",
       "      <th>property_seized</th>\n",
       "    </tr>\n",
       "  </thead>\n",
       "  <tbody>\n",
       "    <tr>\n",
       "      <td>0</td>\n",
       "      <td>1191287</td>\n",
       "      <td>Moving Violation</td>\n",
       "      <td>430</td>\n",
       "      <td>W</td>\n",
       "      <td>F</td>\n",
       "      <td>NaN</td>\n",
       "      <td>NaN</td>\n",
       "      <td>2015-01-01</td>\n",
       "      <td>NaN</td>\n",
       "      <td>Y</td>\n",
       "      <td>N</td>\n",
       "      <td>N</td>\n",
       "      <td>NaN</td>\n",
       "      <td>NaN</td>\n",
       "      <td>NaN</td>\n",
       "    </tr>\n",
       "    <tr>\n",
       "      <td>1</td>\n",
       "      <td>1191295</td>\n",
       "      <td>Moving Violation</td>\n",
       "      <td>520</td>\n",
       "      <td>B</td>\n",
       "      <td>M</td>\n",
       "      <td>NaN</td>\n",
       "      <td>NaN</td>\n",
       "      <td>2015-01-01</td>\n",
       "      <td>NaN</td>\n",
       "      <td>Y</td>\n",
       "      <td>N</td>\n",
       "      <td>N</td>\n",
       "      <td>NaN</td>\n",
       "      <td>NaN</td>\n",
       "      <td>NaN</td>\n",
       "    </tr>\n",
       "    <tr>\n",
       "      <td>2</td>\n",
       "      <td>1191275</td>\n",
       "      <td>Moving Violation</td>\n",
       "      <td>430</td>\n",
       "      <td>B</td>\n",
       "      <td>M</td>\n",
       "      <td>NaN</td>\n",
       "      <td>NaN</td>\n",
       "      <td>2015-01-01</td>\n",
       "      <td>NaN</td>\n",
       "      <td>Y</td>\n",
       "      <td>N</td>\n",
       "      <td>N</td>\n",
       "      <td>NaN</td>\n",
       "      <td>NaN</td>\n",
       "      <td>NaN</td>\n",
       "    </tr>\n",
       "    <tr>\n",
       "      <td>3</td>\n",
       "      <td>1191308</td>\n",
       "      <td>Moving Violation</td>\n",
       "      <td>520</td>\n",
       "      <td>W</td>\n",
       "      <td>M</td>\n",
       "      <td>NaN</td>\n",
       "      <td>NaN</td>\n",
       "      <td>2015-01-01</td>\n",
       "      <td>NaN</td>\n",
       "      <td>N</td>\n",
       "      <td>N</td>\n",
       "      <td>N</td>\n",
       "      <td>NaN</td>\n",
       "      <td>NaN</td>\n",
       "      <td>NaN</td>\n",
       "    </tr>\n",
       "    <tr>\n",
       "      <td>4</td>\n",
       "      <td>1191285</td>\n",
       "      <td>Moving Violation</td>\n",
       "      <td>430</td>\n",
       "      <td>W</td>\n",
       "      <td>F</td>\n",
       "      <td>NaN</td>\n",
       "      <td>NaN</td>\n",
       "      <td>2015-01-01</td>\n",
       "      <td>NaN</td>\n",
       "      <td>Y</td>\n",
       "      <td>N</td>\n",
       "      <td>N</td>\n",
       "      <td>NaN</td>\n",
       "      <td>NaN</td>\n",
       "      <td>NaN</td>\n",
       "    </tr>\n",
       "  </tbody>\n",
       "</table>\n",
       "</div>"
      ],
      "text/plain": [
       "   stop_id        stop_cause service_area subject_race subject_sex  \\\n",
       "0  1191287  Moving Violation          430            W           F   \n",
       "1  1191295  Moving Violation          520            B           M   \n",
       "2  1191275  Moving Violation          430            B           M   \n",
       "3  1191308  Moving Violation          520            W           M   \n",
       "4  1191285  Moving Violation          430            W           F   \n",
       "\n",
       "  subject_age date_time   date_stop time_stop sd_resident arrested searched  \\\n",
       "0         NaN       NaN  2015-01-01       NaN           Y        N        N   \n",
       "1         NaN       NaN  2015-01-01       NaN           Y        N        N   \n",
       "2         NaN       NaN  2015-01-01       NaN           Y        N        N   \n",
       "3         NaN       NaN  2015-01-01       NaN           N        N        N   \n",
       "4         NaN       NaN  2015-01-01       NaN           Y        N        N   \n",
       "\n",
       "  obtained_consent contraband_found property_seized  \n",
       "0              NaN              NaN             NaN  \n",
       "1              NaN              NaN             NaN  \n",
       "2              NaN              NaN             NaN  \n",
       "3              NaN              NaN             NaN  \n",
       "4              NaN              NaN             NaN  "
      ]
     },
     "execution_count": 18,
     "metadata": {},
     "output_type": "execute_result"
    }
   ],
   "source": [
    "raw_2015 = get_table(2015)\n",
    "raw_2015.head()"
   ]
  },
  {
   "cell_type": "code",
   "execution_count": 152,
   "metadata": {},
   "outputs": [
    {
     "name": "stderr",
     "output_type": "stream",
     "text": [
      "C:\\Users\\12097\\Anaconda3\\lib\\site-packages\\IPython\\core\\interactiveshell.py:3249: DtypeWarning: Columns (12) have mixed types. Specify dtype option on import or set low_memory=False.\n",
      "  if (await self.run_code(code, result,  async_=asy)):\n"
     ]
    },
    {
     "data": {
      "text/html": [
       "<div>\n",
       "<style scoped>\n",
       "    .dataframe tbody tr th:only-of-type {\n",
       "        vertical-align: middle;\n",
       "    }\n",
       "\n",
       "    .dataframe tbody tr th {\n",
       "        vertical-align: top;\n",
       "    }\n",
       "\n",
       "    .dataframe thead th {\n",
       "        text-align: right;\n",
       "    }\n",
       "</style>\n",
       "<table border=\"1\" class=\"dataframe\">\n",
       "  <thead>\n",
       "    <tr style=\"text-align: right;\">\n",
       "      <th></th>\n",
       "      <th>stop_id</th>\n",
       "      <th>pid</th>\n",
       "      <th>date_stop</th>\n",
       "      <th>time_stop</th>\n",
       "      <th>stopduration</th>\n",
       "      <th>officer_assignment_key</th>\n",
       "      <th>exp_years</th>\n",
       "      <th>beat</th>\n",
       "      <th>perceived_age</th>\n",
       "      <th>gend</th>\n",
       "    </tr>\n",
       "  </thead>\n",
       "  <tbody>\n",
       "    <tr>\n",
       "      <td>0</td>\n",
       "      <td>2443</td>\n",
       "      <td>1</td>\n",
       "      <td>2018-07-01</td>\n",
       "      <td>00:01:37</td>\n",
       "      <td>30</td>\n",
       "      <td>1</td>\n",
       "      <td>10</td>\n",
       "      <td>122</td>\n",
       "      <td>25</td>\n",
       "      <td>1</td>\n",
       "    </tr>\n",
       "    <tr>\n",
       "      <td>1</td>\n",
       "      <td>2444</td>\n",
       "      <td>1</td>\n",
       "      <td>2018-07-01</td>\n",
       "      <td>00:03:34</td>\n",
       "      <td>10</td>\n",
       "      <td>1</td>\n",
       "      <td>18</td>\n",
       "      <td>121</td>\n",
       "      <td>25</td>\n",
       "      <td>1</td>\n",
       "    </tr>\n",
       "    <tr>\n",
       "      <td>2</td>\n",
       "      <td>2447</td>\n",
       "      <td>1</td>\n",
       "      <td>2018-07-01</td>\n",
       "      <td>00:05:43</td>\n",
       "      <td>15</td>\n",
       "      <td>10</td>\n",
       "      <td>1</td>\n",
       "      <td>822</td>\n",
       "      <td>30</td>\n",
       "      <td>1</td>\n",
       "    </tr>\n",
       "    <tr>\n",
       "      <td>3</td>\n",
       "      <td>2447</td>\n",
       "      <td>2</td>\n",
       "      <td>2018-07-01</td>\n",
       "      <td>00:05:43</td>\n",
       "      <td>15</td>\n",
       "      <td>10</td>\n",
       "      <td>1</td>\n",
       "      <td>822</td>\n",
       "      <td>30</td>\n",
       "      <td>2</td>\n",
       "    </tr>\n",
       "    <tr>\n",
       "      <td>4</td>\n",
       "      <td>2448</td>\n",
       "      <td>1</td>\n",
       "      <td>2018-07-01</td>\n",
       "      <td>00:19:06</td>\n",
       "      <td>5</td>\n",
       "      <td>1</td>\n",
       "      <td>3</td>\n",
       "      <td>614</td>\n",
       "      <td>23</td>\n",
       "      <td>1</td>\n",
       "    </tr>\n",
       "  </tbody>\n",
       "</table>\n",
       "</div>"
      ],
      "text/plain": [
       "   stop_id  pid   date_stop time_stop  stopduration  officer_assignment_key  \\\n",
       "0     2443    1  2018-07-01  00:01:37            30                       1   \n",
       "1     2444    1  2018-07-01  00:03:34            10                       1   \n",
       "2     2447    1  2018-07-01  00:05:43            15                      10   \n",
       "3     2447    2  2018-07-01  00:05:43            15                      10   \n",
       "4     2448    1  2018-07-01  00:19:06             5                       1   \n",
       "\n",
       "   exp_years  beat  perceived_age  gend  \n",
       "0         10   122             25     1  \n",
       "1         18   121             25     1  \n",
       "2          1   822             30     1  \n",
       "3          1   822             30     2  \n",
       "4          3   614             23     1  "
      ]
     },
     "execution_count": 152,
     "metadata": {},
     "output_type": "execute_result"
    }
   ],
   "source": [
    "raw_2018 = get_table(2018)\n",
    "raw_2018.head()"
   ]
  },
  {
   "cell_type": "code",
   "execution_count": 20,
   "metadata": {},
   "outputs": [
    {
     "data": {
      "text/plain": [
       "stop_id              int64\n",
       "stop_cause          object\n",
       "service_area        object\n",
       "subject_race        object\n",
       "subject_sex         object\n",
       "subject_age         object\n",
       "date_time           object\n",
       "date_stop           object\n",
       "time_stop           object\n",
       "sd_resident         object\n",
       "arrested            object\n",
       "searched            object\n",
       "obtained_consent    object\n",
       "contraband_found    object\n",
       "property_seized     object\n",
       "dtype: object"
      ]
     },
     "execution_count": 20,
     "metadata": {},
     "output_type": "execute_result"
    }
   ],
   "source": [
    "# need to clean data types\n",
    "raw_2015.dtypes"
   ]
  },
  {
   "cell_type": "code",
   "execution_count": 146,
   "metadata": {},
   "outputs": [],
   "source": [
    "def clean_age(df, age_col):\n",
    "    cts = df[age_col].value_counts() \n",
    "    bad_age = cts[cts <= 10].index\n",
    "    print(bad_age)\n",
    "    return df[~df[age_col].isin(bad_age)]"
   ]
  },
  {
   "cell_type": "code",
   "execution_count": 147,
   "metadata": {},
   "outputs": [
    {
     "name": "stdout",
     "output_type": "stream",
     "text": [
      "Index(['3', '92', '1', '99', '5', '93', '6', '4', '7', '11', '3_', '2', '14',\n",
      "       '96', '97', '223', '173', '13', '2005', 'F48', '98', '94', '4_', '180',\n",
      "       '213', '224', 'f28', 'y', '399', '55Q', '3.7', '8', '`', '1020', '2_',\n",
      "       '100', '233', 'j', 'f26', '222', '456', 'Y', '701', 'NN', '10', '125',\n",
      "       '345', 'h', 'f', 'x', '387', '32`', '9', '243'],\n",
      "      dtype='object')\n"
     ]
    },
    {
     "data": {
      "text/html": [
       "<div>\n",
       "<style scoped>\n",
       "    .dataframe tbody tr th:only-of-type {\n",
       "        vertical-align: middle;\n",
       "    }\n",
       "\n",
       "    .dataframe tbody tr th {\n",
       "        vertical-align: top;\n",
       "    }\n",
       "\n",
       "    .dataframe thead th {\n",
       "        text-align: right;\n",
       "    }\n",
       "</style>\n",
       "<table border=\"1\" class=\"dataframe\">\n",
       "  <thead>\n",
       "    <tr style=\"text-align: right;\">\n",
       "      <th></th>\n",
       "      <th>stop_id</th>\n",
       "      <th>stop_cause</th>\n",
       "      <th>service_area</th>\n",
       "      <th>subject_race</th>\n",
       "      <th>subject_sex</th>\n",
       "      <th>subject_age</th>\n",
       "      <th>date_time</th>\n",
       "      <th>date_stop</th>\n",
       "      <th>time_stop</th>\n",
       "      <th>sd_resident</th>\n",
       "      <th>arrested</th>\n",
       "      <th>searched</th>\n",
       "      <th>obtained_consent</th>\n",
       "      <th>contraband_found</th>\n",
       "      <th>property_seized</th>\n",
       "    </tr>\n",
       "  </thead>\n",
       "  <tbody>\n",
       "    <tr>\n",
       "      <td>0</td>\n",
       "      <td>1191287</td>\n",
       "      <td>Moving Violation</td>\n",
       "      <td>430</td>\n",
       "      <td>W</td>\n",
       "      <td>F</td>\n",
       "      <td>NaN</td>\n",
       "      <td>NaN</td>\n",
       "      <td>2015-01-01</td>\n",
       "      <td>NaN</td>\n",
       "      <td>Y</td>\n",
       "      <td>N</td>\n",
       "      <td>N</td>\n",
       "      <td>NaN</td>\n",
       "      <td>NaN</td>\n",
       "      <td>NaN</td>\n",
       "    </tr>\n",
       "    <tr>\n",
       "      <td>1</td>\n",
       "      <td>1191295</td>\n",
       "      <td>Moving Violation</td>\n",
       "      <td>520</td>\n",
       "      <td>B</td>\n",
       "      <td>M</td>\n",
       "      <td>NaN</td>\n",
       "      <td>NaN</td>\n",
       "      <td>2015-01-01</td>\n",
       "      <td>NaN</td>\n",
       "      <td>Y</td>\n",
       "      <td>N</td>\n",
       "      <td>N</td>\n",
       "      <td>NaN</td>\n",
       "      <td>NaN</td>\n",
       "      <td>NaN</td>\n",
       "    </tr>\n",
       "    <tr>\n",
       "      <td>2</td>\n",
       "      <td>1191275</td>\n",
       "      <td>Moving Violation</td>\n",
       "      <td>430</td>\n",
       "      <td>B</td>\n",
       "      <td>M</td>\n",
       "      <td>NaN</td>\n",
       "      <td>NaN</td>\n",
       "      <td>2015-01-01</td>\n",
       "      <td>NaN</td>\n",
       "      <td>Y</td>\n",
       "      <td>N</td>\n",
       "      <td>N</td>\n",
       "      <td>NaN</td>\n",
       "      <td>NaN</td>\n",
       "      <td>NaN</td>\n",
       "    </tr>\n",
       "    <tr>\n",
       "      <td>3</td>\n",
       "      <td>1191308</td>\n",
       "      <td>Moving Violation</td>\n",
       "      <td>520</td>\n",
       "      <td>W</td>\n",
       "      <td>M</td>\n",
       "      <td>NaN</td>\n",
       "      <td>NaN</td>\n",
       "      <td>2015-01-01</td>\n",
       "      <td>NaN</td>\n",
       "      <td>N</td>\n",
       "      <td>N</td>\n",
       "      <td>N</td>\n",
       "      <td>NaN</td>\n",
       "      <td>NaN</td>\n",
       "      <td>NaN</td>\n",
       "    </tr>\n",
       "    <tr>\n",
       "      <td>4</td>\n",
       "      <td>1191285</td>\n",
       "      <td>Moving Violation</td>\n",
       "      <td>430</td>\n",
       "      <td>W</td>\n",
       "      <td>F</td>\n",
       "      <td>NaN</td>\n",
       "      <td>NaN</td>\n",
       "      <td>2015-01-01</td>\n",
       "      <td>NaN</td>\n",
       "      <td>Y</td>\n",
       "      <td>N</td>\n",
       "      <td>N</td>\n",
       "      <td>NaN</td>\n",
       "      <td>NaN</td>\n",
       "      <td>NaN</td>\n",
       "    </tr>\n",
       "  </tbody>\n",
       "</table>\n",
       "</div>"
      ],
      "text/plain": [
       "   stop_id        stop_cause service_area subject_race subject_sex  \\\n",
       "0  1191287  Moving Violation          430            W           F   \n",
       "1  1191295  Moving Violation          520            B           M   \n",
       "2  1191275  Moving Violation          430            B           M   \n",
       "3  1191308  Moving Violation          520            W           M   \n",
       "4  1191285  Moving Violation          430            W           F   \n",
       "\n",
       "  subject_age date_time   date_stop time_stop sd_resident arrested searched  \\\n",
       "0         NaN       NaN  2015-01-01       NaN           Y        N        N   \n",
       "1         NaN       NaN  2015-01-01       NaN           Y        N        N   \n",
       "2         NaN       NaN  2015-01-01       NaN           Y        N        N   \n",
       "3         NaN       NaN  2015-01-01       NaN           N        N        N   \n",
       "4         NaN       NaN  2015-01-01       NaN           Y        N        N   \n",
       "\n",
       "  obtained_consent contraband_found property_seized  \n",
       "0              NaN              NaN             NaN  \n",
       "1              NaN              NaN             NaN  \n",
       "2              NaN              NaN             NaN  \n",
       "3              NaN              NaN             NaN  \n",
       "4              NaN              NaN             NaN  "
      ]
     },
     "execution_count": 147,
     "metadata": {},
     "output_type": "execute_result"
    }
   ],
   "source": [
    "clean_age(raw_2015, 'subject_age').head()"
   ]
  },
  {
   "cell_type": "code",
   "execution_count": 139,
   "metadata": {},
   "outputs": [
    {
     "data": {
      "text/plain": [
       "0.11907319868213723"
      ]
     },
     "execution_count": 139,
     "metadata": {},
     "output_type": "execute_result"
    }
   ],
   "source": [
    "(t.shape[0] / raw_2015[~raw_2015['subject_age'].isnull()].shape[0]) * 100"
   ]
  },
  {
   "cell_type": "code",
   "execution_count": 96,
   "metadata": {},
   "outputs": [
    {
     "data": {
      "text/plain": [
       "stop_id             0.000000\n",
       "stop_cause          0.000399\n",
       "service_area        0.000000\n",
       "subject_race        0.002183\n",
       "subject_sex         0.001776\n",
       "subject_age         0.032282\n",
       "date_time           0.003613\n",
       "date_stop           0.000000\n",
       "time_stop           0.002201\n",
       "sd_resident         0.094895\n",
       "arrested            0.076545\n",
       "searched            0.081770\n",
       "obtained_consent    0.949273\n",
       "contraband_found    0.946899\n",
       "property_seized     0.947263\n",
       "dtype: float64"
      ]
     },
     "execution_count": 96,
     "metadata": {},
     "output_type": "execute_result"
    }
   ],
   "source": [
    "# % null\n",
    "n = raw_2015.isnull().sum()\n",
    "pd.Series(n.values / raw_2015.shape[0], index = n.index)"
   ]
  },
  {
   "cell_type": "code",
   "execution_count": 107,
   "metadata": {},
   "outputs": [
    {
     "data": {
      "text/plain": [
       "stop_id                0\n",
       "stop_cause             0\n",
       "service_area           0\n",
       "subject_race           2\n",
       "subject_sex            2\n",
       "subject_age           24\n",
       "date_time              4\n",
       "date_stop              0\n",
       "time_stop              1\n",
       "sd_resident           66\n",
       "arrested              25\n",
       "searched               0\n",
       "obtained_consent    1790\n",
       "contraband_found    1623\n",
       "property_seized     1669\n",
       "dtype: int64"
      ]
     },
     "execution_count": 107,
     "metadata": {},
     "output_type": "execute_result"
    }
   ],
   "source": [
    "n2 = raw_2015[(raw_2015['searched'] == 'Y') | (raw_2015['searched'] == 'y')]\n",
    "n3 = n2.isnull().sum()\n",
    "n3"
   ]
  },
  {
   "cell_type": "code",
   "execution_count": 108,
   "metadata": {},
   "outputs": [
    {
     "data": {
      "text/plain": [
       "stop_id             0.000000\n",
       "stop_cause          0.000000\n",
       "service_area        0.000000\n",
       "subject_race        0.000457\n",
       "subject_sex         0.000457\n",
       "subject_age         0.005483\n",
       "date_time           0.000914\n",
       "date_stop           0.000000\n",
       "time_stop           0.000228\n",
       "sd_resident         0.015079\n",
       "arrested            0.005712\n",
       "searched            0.000000\n",
       "obtained_consent    0.408956\n",
       "contraband_found    0.370802\n",
       "property_seized     0.381311\n",
       "dtype: float64"
      ]
     },
     "execution_count": 108,
     "metadata": {},
     "output_type": "execute_result"
    }
   ],
   "source": [
    "# % null\n",
    "pd.Series(n3.values / n2.shape[0], index = n3.index)"
   ]
  },
  {
   "cell_type": "code",
   "execution_count": 21,
   "metadata": {},
   "outputs": [
    {
     "data": {
      "text/plain": [
       "1223866    2\n",
       "1262708    2\n",
       "1255327    2\n",
       "1234416    2\n",
       "1224351    2\n",
       "          ..\n",
       "1238307    1\n",
       "1236260    1\n",
       "1234213    1\n",
       "1232166    1\n",
       "1262205    1\n",
       "Name: stop_id, Length: 113641, dtype: int64"
      ]
     },
     "execution_count": 21,
     "metadata": {},
     "output_type": "execute_result"
    }
   ],
   "source": [
    "raw_2015.stop_id.value_counts().sort_values(ascending=False)"
   ]
  },
  {
   "cell_type": "code",
   "execution_count": 22,
   "metadata": {},
   "outputs": [
    {
     "data": {
      "text/html": [
       "<div>\n",
       "<style scoped>\n",
       "    .dataframe tbody tr th:only-of-type {\n",
       "        vertical-align: middle;\n",
       "    }\n",
       "\n",
       "    .dataframe tbody tr th {\n",
       "        vertical-align: top;\n",
       "    }\n",
       "\n",
       "    .dataframe thead th {\n",
       "        text-align: right;\n",
       "    }\n",
       "</style>\n",
       "<table border=\"1\" class=\"dataframe\">\n",
       "  <thead>\n",
       "    <tr style=\"text-align: right;\">\n",
       "      <th></th>\n",
       "      <th>stop_id</th>\n",
       "      <th>stop_cause</th>\n",
       "      <th>service_area</th>\n",
       "      <th>subject_race</th>\n",
       "      <th>subject_sex</th>\n",
       "      <th>subject_age</th>\n",
       "      <th>date_time</th>\n",
       "      <th>date_stop</th>\n",
       "      <th>time_stop</th>\n",
       "      <th>sd_resident</th>\n",
       "      <th>arrested</th>\n",
       "      <th>searched</th>\n",
       "      <th>obtained_consent</th>\n",
       "      <th>contraband_found</th>\n",
       "      <th>property_seized</th>\n",
       "    </tr>\n",
       "  </thead>\n",
       "  <tbody>\n",
       "    <tr>\n",
       "      <td>36629</td>\n",
       "      <td>1226448</td>\n",
       "      <td>Moving Violation</td>\n",
       "      <td>810</td>\n",
       "      <td>H</td>\n",
       "      <td>M</td>\n",
       "      <td>35</td>\n",
       "      <td>2015-04-21 09:55:00</td>\n",
       "      <td>2015-04-21</td>\n",
       "      <td>9:55</td>\n",
       "      <td>Y</td>\n",
       "      <td>N</td>\n",
       "      <td>N</td>\n",
       "      <td>NaN</td>\n",
       "      <td>NaN</td>\n",
       "      <td>NaN</td>\n",
       "    </tr>\n",
       "    <tr>\n",
       "      <td>37200</td>\n",
       "      <td>1226448</td>\n",
       "      <td>Equipment Violation</td>\n",
       "      <td>110</td>\n",
       "      <td>A</td>\n",
       "      <td>M</td>\n",
       "      <td>28</td>\n",
       "      <td>2015-04-21 19:35:00</td>\n",
       "      <td>2015-04-21</td>\n",
       "      <td>19:35</td>\n",
       "      <td>Y</td>\n",
       "      <td>N</td>\n",
       "      <td>N</td>\n",
       "      <td>NaN</td>\n",
       "      <td>NaN</td>\n",
       "      <td>NaN</td>\n",
       "    </tr>\n",
       "    <tr>\n",
       "      <td>38140</td>\n",
       "      <td>1227761</td>\n",
       "      <td>Moving Violation</td>\n",
       "      <td>110</td>\n",
       "      <td>W</td>\n",
       "      <td>F</td>\n",
       "      <td>84</td>\n",
       "      <td>NaN</td>\n",
       "      <td>2015-04-25</td>\n",
       "      <td>0:95</td>\n",
       "      <td>Y</td>\n",
       "      <td>N</td>\n",
       "      <td>N</td>\n",
       "      <td>NaN</td>\n",
       "      <td>NaN</td>\n",
       "      <td>NaN</td>\n",
       "    </tr>\n",
       "    <tr>\n",
       "      <td>38220</td>\n",
       "      <td>1227761</td>\n",
       "      <td>Equipment Violation</td>\n",
       "      <td>120</td>\n",
       "      <td>W</td>\n",
       "      <td>F</td>\n",
       "      <td>22</td>\n",
       "      <td>2015-04-25 01:45:00</td>\n",
       "      <td>2015-04-25</td>\n",
       "      <td>1:45</td>\n",
       "      <td>Y</td>\n",
       "      <td>N</td>\n",
       "      <td>N</td>\n",
       "      <td>NaN</td>\n",
       "      <td>NaN</td>\n",
       "      <td>NaN</td>\n",
       "    </tr>\n",
       "    <tr>\n",
       "      <td>87918</td>\n",
       "      <td>1281833</td>\n",
       "      <td>Moving Violation</td>\n",
       "      <td>120</td>\n",
       "      <td>W</td>\n",
       "      <td>F</td>\n",
       "      <td>30</td>\n",
       "      <td>2015-09-30 07:05:00</td>\n",
       "      <td>2015-09-30</td>\n",
       "      <td>7:05</td>\n",
       "      <td>Y</td>\n",
       "      <td>N</td>\n",
       "      <td>N</td>\n",
       "      <td>NaN</td>\n",
       "      <td>NaN</td>\n",
       "      <td>NaN</td>\n",
       "    </tr>\n",
       "    <tr>\n",
       "      <td>89012</td>\n",
       "      <td>1281833</td>\n",
       "      <td>Moving Violation</td>\n",
       "      <td>440</td>\n",
       "      <td>H</td>\n",
       "      <td>M</td>\n",
       "      <td>20</td>\n",
       "      <td>2015-10-04 01:30:00</td>\n",
       "      <td>2015-10-04</td>\n",
       "      <td>1:30</td>\n",
       "      <td>Y</td>\n",
       "      <td>N</td>\n",
       "      <td>N</td>\n",
       "      <td>NaN</td>\n",
       "      <td>NaN</td>\n",
       "      <td>NaN</td>\n",
       "    </tr>\n",
       "  </tbody>\n",
       "</table>\n",
       "</div>"
      ],
      "text/plain": [
       "       stop_id           stop_cause service_area subject_race subject_sex  \\\n",
       "36629  1226448     Moving Violation          810            H           M   \n",
       "37200  1226448  Equipment Violation          110            A           M   \n",
       "38140  1227761     Moving Violation          110            W           F   \n",
       "38220  1227761  Equipment Violation          120            W           F   \n",
       "87918  1281833     Moving Violation          120            W           F   \n",
       "89012  1281833     Moving Violation          440            H           M   \n",
       "\n",
       "      subject_age            date_time   date_stop time_stop sd_resident  \\\n",
       "36629          35  2015-04-21 09:55:00  2015-04-21      9:55           Y   \n",
       "37200          28  2015-04-21 19:35:00  2015-04-21     19:35           Y   \n",
       "38140          84                  NaN  2015-04-25      0:95           Y   \n",
       "38220          22  2015-04-25 01:45:00  2015-04-25      1:45           Y   \n",
       "87918          30  2015-09-30 07:05:00  2015-09-30      7:05           Y   \n",
       "89012          20  2015-10-04 01:30:00  2015-10-04      1:30           Y   \n",
       "\n",
       "      arrested searched obtained_consent contraband_found property_seized  \n",
       "36629        N        N              NaN              NaN             NaN  \n",
       "37200        N        N              NaN              NaN             NaN  \n",
       "38140        N        N              NaN              NaN             NaN  \n",
       "38220        N        N              NaN              NaN             NaN  \n",
       "87918        N        N              NaN              NaN             NaN  \n",
       "89012        N        N              NaN              NaN             NaN  "
      ]
     },
     "execution_count": 22,
     "metadata": {},
     "output_type": "execute_result"
    }
   ],
   "source": [
    "# cant drop duplicate stop_ids\n",
    "raw_2015[(raw_2015['stop_id'] == 1281833) | (raw_2015['stop_id'] == 1226448) | (raw_2015['stop_id'] == 1227761)]"
   ]
  },
  {
   "cell_type": "code",
   "execution_count": 23,
   "metadata": {},
   "outputs": [
    {
     "data": {
      "text/plain": [
       "0.015430333905148065"
      ]
     },
     "execution_count": 23,
     "metadata": {},
     "output_type": "execute_result"
    }
   ],
   "source": [
    "# percentage of duplicates\n",
    "raw_2015.stop_id.value_counts()[raw_2015.stop_id.value_counts() > 1].shape[0] / raw_2015.shape[0]"
   ]
  },
  {
   "cell_type": "markdown",
   "metadata": {},
   "source": [
    "#### Descriptive Stats\n",
    "Statistically summarize the relevant, cleaned attributes and derived features (e.g. in univariate and bivariate analyses) for San Diego."
   ]
  },
  {
   "cell_type": "code",
   "execution_count": 234,
   "metadata": {},
   "outputs": [],
   "source": [
    "pre = get_data(2015)"
   ]
  },
  {
   "cell_type": "code",
   "execution_count": 235,
   "metadata": {},
   "outputs": [
    {
     "data": {
      "text/plain": [
       "Index(['stop_id', 'stop_cause', 'date_stop', 'time_stop', 'outcome',\n",
       "       'service_area', 'driver_race', 'driver_sex', 'percieved_driver_age',\n",
       "       'sd_resident'],\n",
       "      dtype='object')"
      ]
     },
     "execution_count": 235,
     "metadata": {},
     "output_type": "execute_result"
    }
   ],
   "source": [
    "pre.columns"
   ]
  },
  {
   "cell_type": "code",
   "execution_count": 161,
   "metadata": {},
   "outputs": [],
   "source": [
    "def get_dist(df, col):\n",
    "    cur = df[col].value_counts()\n",
    "    ser = pd.Series(cur.values / df.shape[0], index = cur.index)\n",
    "    return ser"
   ]
  },
  {
   "cell_type": "code",
   "execution_count": 163,
   "metadata": {},
   "outputs": [],
   "source": [
    "# univariate analysis: stop_cause, outcome, driver_race, percieved_driver_age, outcome"
   ]
  },
  {
   "cell_type": "code",
   "execution_count": 193,
   "metadata": {},
   "outputs": [
    {
     "name": "stdout",
     "output_type": "stream",
     "text": [
      "Moving Violation                      0.748531\n",
      "Equipment Violation                   0.237910\n",
      "Radio Call/Citizen Contact            0.004306\n",
      "Muni, County, H&S Code                0.003015\n",
      "Personal Knowledge/Informant          0.002175\n",
      "No Cause Specified on a Card          0.001689\n",
      "Suspect Info (I.S., Bulletin, Log)    0.001378\n",
      "MUNI, County, H&S Code                0.000130\n",
      "Personal Observ/Knowledge             0.000104\n",
      "Other                                 0.000061\n",
      "none listed                           0.000052\n",
      "not marked                            0.000035\n",
      "&Moving Violation                     0.000026\n",
      "UNI, &County, H&&S Code               0.000026\n",
      "NOT MARKED                            0.000017\n",
      "Suspect Info                          0.000017\n",
      "NOT SPECIFIED                         0.000017\n",
      "NOTHING MARKED                        0.000017\n",
      "not noted                             0.000017\n",
      "Pedestrian                            0.000009\n",
      "wm23                                  0.000009\n",
      "not secified                          0.000009\n",
      "f25                                   0.000009\n",
      "none noted                            0.000009\n",
      "NOT CHECKED                           0.000009\n",
      "not listed                            0.000009\n",
      "CAUSE NOT LISTED ACTION NOT LISTED    0.000009\n",
      "not marked  not marked                0.000009\n",
      "dtype: float64\n"
     ]
    }
   ],
   "source": [
    "print(get_dist(pre, 'stop_cause'))"
   ]
  },
  {
   "cell_type": "code",
   "execution_count": 194,
   "metadata": {},
   "outputs": [
    {
     "name": "stdout",
     "output_type": "stream",
     "text": [
      "Not Applicable                      0.959098\n",
      "Search of property was conducted    0.026407\n",
      "Arrest                              0.011662\n",
      "Property was seized                 0.002833\n",
      "dtype: float64\n"
     ]
    }
   ],
   "source": [
    "print(get_dist(pre, 'outcome'))"
   ]
  },
  {
   "cell_type": "code",
   "execution_count": 195,
   "metadata": {},
   "outputs": [
    {
     "name": "stdout",
     "output_type": "stream",
     "text": [
      "W    0.432162\n",
      "H    0.298427\n",
      "B    0.107406\n",
      "O    0.073807\n",
      "A    0.045139\n",
      "F    0.013905\n",
      "V    0.008213\n",
      "C    0.005606\n",
      "I    0.005112\n",
      "K    0.001534\n",
      "X    0.001274\n",
      "J    0.001152\n",
      "P    0.001048\n",
      "Z    0.000953\n",
      "S    0.000572\n",
      "L    0.000546\n",
      "D    0.000485\n",
      "G    0.000321\n",
      "U    0.000156\n",
      "dtype: float64\n"
     ]
    }
   ],
   "source": [
    "print(get_dist(pre, 'driver_race'))"
   ]
  },
  {
   "cell_type": "code",
   "execution_count": 196,
   "metadata": {},
   "outputs": [
    {
     "name": "stdout",
     "output_type": "stream",
     "text": [
      "25     0.042028\n",
      "30     0.036865\n",
      "24     0.034681\n",
      "23     0.033339\n",
      "21     0.031788\n",
      "         ...   \n",
      "399    0.000009\n",
      "55Q    0.000009\n",
      "3.7    0.000009\n",
      "8      0.000009\n",
      "243    0.000009\n",
      "Length: 133, dtype: float64\n"
     ]
    }
   ],
   "source": [
    "print(get_dist(pre, 'percieved_driver_age').sort_values(ascending=False))"
   ]
  },
  {
   "cell_type": "code",
   "execution_count": 197,
   "metadata": {},
   "outputs": [
    {
     "name": "stdout",
     "output_type": "stream",
     "text": [
      "Not Applicable                      0.959098\n",
      "Search of property was conducted    0.026407\n",
      "Arrest                              0.011662\n",
      "Property was seized                 0.002833\n",
      "dtype: float64\n"
     ]
    }
   ],
   "source": [
    "print(get_dist(pre, 'outcome').sort_values(ascending=False))"
   ]
  },
  {
   "cell_type": "code",
   "execution_count": 167,
   "metadata": {},
   "outputs": [],
   "source": [
    "# Bivariate Analysis"
   ]
  },
  {
   "cell_type": "code",
   "execution_count": 173,
   "metadata": {},
   "outputs": [],
   "source": [
    "def get_cond_dist(df, col, cond):\n",
    "    cur = df.groupby(cond)[col].value_counts()\n",
    "    ser = pd.Series(cur.values / df.shape[0], index = cur.index)\n",
    "    return ser"
   ]
  },
  {
   "cell_type": "code",
   "execution_count": 184,
   "metadata": {},
   "outputs": [
    {
     "name": "stdout",
     "output_type": "stream",
     "text": [
      "                                       White\n",
      "stop_cause                                  \n",
      "Moving Violation                    0.345445\n",
      "Equipment Violation                 0.080946\n",
      "Radio Call/Citizen Contact          0.001750\n",
      "Muni, County, H&S Code              0.001508\n",
      "No Cause Specified on a Card        0.000884\n",
      "Personal Knowledge/Informant        0.000832\n",
      "Suspect Info (I.S., Bulletin, Log)  0.000416\n",
      "MUNI, County, H&S Code              0.000061\n",
      "Personal Observ/Knowledge           0.000035\n",
      "&Moving Violation                   0.000026\n",
      "none listed                         0.000026\n",
      "Other                               0.000017\n",
      "not marked                          0.000017\n",
      "NOT CHECKED                         0.000009\n",
      "NOT SPECIFIED                       0.000009\n",
      "NOTHING MARKED                      0.000009\n",
      "UNI, &County, H&&S Code             0.000009\n",
      "not listed                          0.000009\n",
      "not marked  not marked              0.000009\n",
      "not noted                           0.000009\n",
      "                                       Black\n",
      "stop_cause                                  \n",
      "Moving Violation                    0.066712\n",
      "Equipment Violation                 0.038675\n",
      "Radio Call/Citizen Contact          0.000580\n",
      "Muni, County, H&S Code              0.000503\n",
      "Personal Knowledge/Informant        0.000416\n",
      "Suspect Info (I.S., Bulletin, Log)  0.000321\n",
      "No Cause Specified on a Card        0.000104\n",
      "MUNI, County, H&S Code              0.000017\n",
      "NOT SPECIFIED                       0.000009\n",
      "Personal Observ/Knowledge           0.000009\n",
      "Suspect Info                        0.000009\n",
      "UNI, &County, H&&S Code             0.000009\n",
      "not marked                          0.000009\n"
     ]
    }
   ],
   "source": [
    "print(pd.DataFrame(get_cond_dist(pre, 'stop_cause', 'driver_race')).loc['W'].rename(columns={0:'White'}))\n",
    "print(pd.DataFrame(get_cond_dist(pre, 'stop_cause', 'driver_race')).loc['B'].rename(columns={0:'Black'}))"
   ]
  },
  {
   "cell_type": "code",
   "execution_count": 183,
   "metadata": {},
   "outputs": [
    {
     "name": "stdout",
     "output_type": "stream",
     "text": [
      "                                     White\n",
      "outcome                                   \n",
      "Not Applicable                    0.419669\n",
      "Search of property was conducted  0.006931\n",
      "Arrest                            0.004808\n",
      "Property was seized               0.000754\n",
      "                                     Black\n",
      "outcome                                   \n",
      "Not Applicable                    0.098508\n",
      "Search of property was conducted  0.006628\n",
      "Arrest                            0.001871\n",
      "Property was seized               0.000399\n"
     ]
    }
   ],
   "source": [
    "print(pd.DataFrame(get_cond_dist(pre, 'outcome', 'driver_race')).loc['W'].rename(columns={0:'White'}))\n",
    "print(pd.DataFrame(get_cond_dist(pre, 'outcome', 'driver_race')).loc['B'].rename(columns={0:'Black'}))"
   ]
  },
  {
   "cell_type": "markdown",
   "metadata": {},
   "source": [
    "#### Traffic Stop Analysis\n",
    "Calculate and document the differences in stop rates and post-stop outcomes. The analysis should address possible reasons for such differences (including addressing possible confounders). Additionally: - The significance of these differences should be tested using statistical inference. - These differences should also be calculated across other variables of interest (e.g. service area)."
   ]
  },
  {
   "cell_type": "code",
   "execution_count": 185,
   "metadata": {},
   "outputs": [],
   "source": [
    "def search_rate(col):\n",
    "    c = col.where(col == 'Search of property was conducted', 0)\n",
    "    return sum(c) / col.shape[0]"
   ]
  },
  {
   "cell_type": "code",
   "execution_count": 186,
   "metadata": {},
   "outputs": [],
   "source": [
    "def search_rate_by_attribute(df, attributes = None):     \n",
    "    if attributes == None:\n",
    "        return df.groupby('subject_race')['outcome'].apply(search_rate)\n",
    "        \n",
    "    else:\n",
    "        return df.groupby(['subject_race', attributes])['outcome'].apply(search_rate)"
   ]
  },
  {
   "cell_type": "code",
   "execution_count": 188,
   "metadata": {},
   "outputs": [],
   "source": [
    "def stop_rate(df, race):\n",
    "    c = df[df['driver_race'] == race]\n",
    "    return c.shape[0] / df.shape[0]"
   ]
  },
  {
   "cell_type": "code",
   "execution_count": 221,
   "metadata": {},
   "outputs": [
    {
     "data": {
      "text/html": [
       "<div>\n",
       "<style scoped>\n",
       "    .dataframe tbody tr th:only-of-type {\n",
       "        vertical-align: middle;\n",
       "    }\n",
       "\n",
       "    .dataframe tbody tr th {\n",
       "        vertical-align: top;\n",
       "    }\n",
       "\n",
       "    .dataframe thead th {\n",
       "        text-align: right;\n",
       "    }\n",
       "</style>\n",
       "<table border=\"1\" class=\"dataframe\">\n",
       "  <thead>\n",
       "    <tr style=\"text-align: right;\">\n",
       "      <th></th>\n",
       "      <th>Not Applicable</th>\n",
       "      <th>Search of property was conducted</th>\n",
       "      <th>Arrest</th>\n",
       "      <th>Property was seized</th>\n",
       "    </tr>\n",
       "  </thead>\n",
       "  <tbody>\n",
       "    <tr>\n",
       "      <td>White</td>\n",
       "      <td>0.432162</td>\n",
       "      <td>0.432162</td>\n",
       "      <td>0.432162</td>\n",
       "      <td>0.432162</td>\n",
       "    </tr>\n",
       "    <tr>\n",
       "      <td>Black</td>\n",
       "      <td>0.107406</td>\n",
       "      <td>0.107406</td>\n",
       "      <td>0.107406</td>\n",
       "      <td>0.107406</td>\n",
       "    </tr>\n",
       "  </tbody>\n",
       "</table>\n",
       "</div>"
      ],
      "text/plain": [
       "       Not Applicable  Search of property was conducted    Arrest  \\\n",
       "White        0.432162                          0.432162  0.432162   \n",
       "Black        0.107406                          0.107406  0.107406   \n",
       "\n",
       "       Property was seized  \n",
       "White             0.432162  \n",
       "Black             0.107406  "
      ]
     },
     "execution_count": 221,
     "metadata": {},
     "output_type": "execute_result"
    }
   ],
   "source": [
    "pd.DataFrame({'White': stop_rate(pre, 'W'), 'Black': stop_rate(pre, 'B')}, index = outcome_dist(pre, 'W').index).T"
   ]
  },
  {
   "cell_type": "code",
   "execution_count": 207,
   "metadata": {},
   "outputs": [],
   "source": [
    "def outcome_dist(df, race):\n",
    "    a1 = df[df['driver_race'] == race]['outcome'].value_counts()\n",
    "    a2 = df['outcome'].value_counts()\n",
    "    return pd.Series(np.divide(a1.values, a2.values), index=a1.index)"
   ]
  },
  {
   "cell_type": "code",
   "execution_count": 219,
   "metadata": {},
   "outputs": [
    {
     "data": {
      "text/html": [
       "<div>\n",
       "<style scoped>\n",
       "    .dataframe tbody tr th:only-of-type {\n",
       "        vertical-align: middle;\n",
       "    }\n",
       "\n",
       "    .dataframe tbody tr th {\n",
       "        vertical-align: top;\n",
       "    }\n",
       "\n",
       "    .dataframe thead th {\n",
       "        text-align: right;\n",
       "    }\n",
       "</style>\n",
       "<table border=\"1\" class=\"dataframe\">\n",
       "  <thead>\n",
       "    <tr style=\"text-align: right;\">\n",
       "      <th></th>\n",
       "      <th>Not Applicable</th>\n",
       "      <th>Search of property was conducted</th>\n",
       "      <th>Arrest</th>\n",
       "      <th>Property was seized</th>\n",
       "    </tr>\n",
       "  </thead>\n",
       "  <tbody>\n",
       "    <tr>\n",
       "      <td>White</td>\n",
       "      <td>0.437566</td>\n",
       "      <td>0.262467</td>\n",
       "      <td>0.412333</td>\n",
       "      <td>0.266055</td>\n",
       "    </tr>\n",
       "    <tr>\n",
       "      <td>Black</td>\n",
       "      <td>0.102709</td>\n",
       "      <td>0.250984</td>\n",
       "      <td>0.160475</td>\n",
       "      <td>0.140673</td>\n",
       "    </tr>\n",
       "  </tbody>\n",
       "</table>\n",
       "</div>"
      ],
      "text/plain": [
       "       Not Applicable  Search of property was conducted    Arrest  \\\n",
       "White        0.437566                          0.262467  0.412333   \n",
       "Black        0.102709                          0.250984  0.160475   \n",
       "\n",
       "       Property was seized  \n",
       "White             0.266055  \n",
       "Black             0.140673  "
      ]
     },
     "execution_count": 219,
     "metadata": {},
     "output_type": "execute_result"
    }
   ],
   "source": [
    "pd.DataFrame({'White': outcome_dist(pre, 'W').values, 'Black': outcome_dist(pre, 'B').values}, index = outcome_dist(pre, 'W').index).T"
   ]
  },
  {
   "cell_type": "code",
   "execution_count": 222,
   "metadata": {},
   "outputs": [],
   "source": [
    "%matplotlib inline\n",
    "\n",
    "import random\n",
    "from scipy import stats\n",
    "import statsmodels.api as sm\n",
    "import matplotlib.pyplot as plt"
   ]
  },
  {
   "cell_type": "code",
   "execution_count": null,
   "metadata": {},
   "outputs": [],
   "source": [
    "# use stat inference to test significance in difference"
   ]
  },
  {
   "cell_type": "code",
   "execution_count": null,
   "metadata": {},
   "outputs": [],
   "source": []
  },
  {
   "cell_type": "code",
   "execution_count": null,
   "metadata": {},
   "outputs": [],
   "source": []
  },
  {
   "cell_type": "code",
   "execution_count": null,
   "metadata": {},
   "outputs": [],
   "source": []
  },
  {
   "cell_type": "code",
   "execution_count": null,
   "metadata": {},
   "outputs": [],
   "source": [
    "# calculate difference across othe variables of interest: service_area, age "
   ]
  },
  {
   "cell_type": "code",
   "execution_count": null,
   "metadata": {},
   "outputs": [],
   "source": []
  },
  {
   "cell_type": "code",
   "execution_count": null,
   "metadata": {},
   "outputs": [],
   "source": []
  },
  {
   "cell_type": "code",
   "execution_count": null,
   "metadata": {},
   "outputs": [],
   "source": [
    "# use stat inference to test significance in difference"
   ]
  },
  {
   "cell_type": "code",
   "execution_count": null,
   "metadata": {},
   "outputs": [],
   "source": []
  },
  {
   "cell_type": "code",
   "execution_count": null,
   "metadata": {},
   "outputs": [],
   "source": []
  },
  {
   "cell_type": "markdown",
   "metadata": {},
   "source": [
    "#### Veil of Darkness\n",
    "Perform the Veil of Darkness analysis for San Diego. Include an introduction to the technique and interpret the results. (In Assignment #3 you will carefully address the shortcoming of this result.)"
   ]
  },
  {
   "cell_type": "code",
   "execution_count": 243,
   "metadata": {},
   "outputs": [],
   "source": [
    "def filter_stop_reason(df):\n",
    "    return df[(df['stop_cause'] == 'Moving Violation') | (df['stop_cause'] == 'Equipment Violation')]    "
   ]
  },
  {
   "cell_type": "code",
   "execution_count": 244,
   "metadata": {},
   "outputs": [],
   "source": [
    "def get_veil(df):\n",
    "    inter = df[(df['time_stop'] >=  pd.to_datetime('17:39', format= '%H:%M')) & (df['time_stop'] <= pd.to_datetime('20:59', format= '%H:%M'))]\n",
    "    inter['time_stop'] = inter['time_stop'].apply(lambda x: x.time())\n",
    "    \n",
    "    inter = filter_stop_reason(inter)\n",
    "    return inter"
   ]
  },
  {
   "cell_type": "code",
   "execution_count": 245,
   "metadata": {},
   "outputs": [
    {
     "name": "stderr",
     "output_type": "stream",
     "text": [
      "C:\\Users\\12097\\Anaconda3\\lib\\site-packages\\ipykernel_launcher.py:3: SettingWithCopyWarning: \n",
      "A value is trying to be set on a copy of a slice from a DataFrame.\n",
      "Try using .loc[row_indexer,col_indexer] = value instead\n",
      "\n",
      "See the caveats in the documentation: http://pandas.pydata.org/pandas-docs/stable/user_guide/indexing.html#returning-a-view-versus-a-copy\n",
      "  This is separate from the ipykernel package so we can avoid doing imports until\n"
     ]
    }
   ],
   "source": [
    "veil_pre = get_veil(pre)"
   ]
  },
  {
   "cell_type": "code",
   "execution_count": 246,
   "metadata": {},
   "outputs": [
    {
     "data": {
      "text/html": [
       "<div>\n",
       "<style scoped>\n",
       "    .dataframe tbody tr th:only-of-type {\n",
       "        vertical-align: middle;\n",
       "    }\n",
       "\n",
       "    .dataframe tbody tr th {\n",
       "        vertical-align: top;\n",
       "    }\n",
       "\n",
       "    .dataframe thead th {\n",
       "        text-align: right;\n",
       "    }\n",
       "</style>\n",
       "<table border=\"1\" class=\"dataframe\">\n",
       "  <thead>\n",
       "    <tr style=\"text-align: right;\">\n",
       "      <th></th>\n",
       "      <th>stop_id</th>\n",
       "      <th>stop_cause</th>\n",
       "      <th>date_stop</th>\n",
       "      <th>time_stop</th>\n",
       "      <th>outcome</th>\n",
       "      <th>service_area</th>\n",
       "      <th>driver_race</th>\n",
       "      <th>driver_sex</th>\n",
       "      <th>percieved_driver_age</th>\n",
       "      <th>sd_resident</th>\n",
       "    </tr>\n",
       "  </thead>\n",
       "  <tbody>\n",
       "    <tr>\n",
       "      <td>199</td>\n",
       "      <td>1189897</td>\n",
       "      <td>Equipment Violation</td>\n",
       "      <td>2015-01-01</td>\n",
       "      <td>17:40:00</td>\n",
       "      <td>Property was seized</td>\n",
       "      <td>110</td>\n",
       "      <td>A</td>\n",
       "      <td>M</td>\n",
       "      <td>63</td>\n",
       "      <td>1.0</td>\n",
       "    </tr>\n",
       "    <tr>\n",
       "      <td>200</td>\n",
       "      <td>1189883</td>\n",
       "      <td>Equipment Violation</td>\n",
       "      <td>2015-01-01</td>\n",
       "      <td>17:40:00</td>\n",
       "      <td>Not Applicable</td>\n",
       "      <td>720</td>\n",
       "      <td>H</td>\n",
       "      <td>F</td>\n",
       "      <td>41</td>\n",
       "      <td>0.0</td>\n",
       "    </tr>\n",
       "    <tr>\n",
       "      <td>201</td>\n",
       "      <td>1189886</td>\n",
       "      <td>Moving Violation</td>\n",
       "      <td>2015-01-01</td>\n",
       "      <td>17:45:00</td>\n",
       "      <td>Not Applicable</td>\n",
       "      <td>720</td>\n",
       "      <td>H</td>\n",
       "      <td>M</td>\n",
       "      <td>76</td>\n",
       "      <td>0.0</td>\n",
       "    </tr>\n",
       "    <tr>\n",
       "      <td>202</td>\n",
       "      <td>1189882</td>\n",
       "      <td>Moving Violation</td>\n",
       "      <td>2015-01-01</td>\n",
       "      <td>17:45:00</td>\n",
       "      <td>Not Applicable</td>\n",
       "      <td>110</td>\n",
       "      <td>W</td>\n",
       "      <td>F</td>\n",
       "      <td>45</td>\n",
       "      <td>1.0</td>\n",
       "    </tr>\n",
       "    <tr>\n",
       "      <td>203</td>\n",
       "      <td>1189887</td>\n",
       "      <td>Moving Violation</td>\n",
       "      <td>2015-01-01</td>\n",
       "      <td>18:00:00</td>\n",
       "      <td>Not Applicable</td>\n",
       "      <td>720</td>\n",
       "      <td>W</td>\n",
       "      <td>M</td>\n",
       "      <td>25</td>\n",
       "      <td>0.0</td>\n",
       "    </tr>\n",
       "  </tbody>\n",
       "</table>\n",
       "</div>"
      ],
      "text/plain": [
       "     stop_id           stop_cause   date_stop time_stop              outcome  \\\n",
       "199  1189897  Equipment Violation  2015-01-01  17:40:00  Property was seized   \n",
       "200  1189883  Equipment Violation  2015-01-01  17:40:00       Not Applicable   \n",
       "201  1189886     Moving Violation  2015-01-01  17:45:00       Not Applicable   \n",
       "202  1189882     Moving Violation  2015-01-01  17:45:00       Not Applicable   \n",
       "203  1189887     Moving Violation  2015-01-01  18:00:00       Not Applicable   \n",
       "\n",
       "    service_area driver_race driver_sex percieved_driver_age  sd_resident  \n",
       "199          110           A          M                   63          1.0  \n",
       "200          720           H          F                   41          0.0  \n",
       "201          720           H          M                   76          0.0  \n",
       "202          110           W          F                   45          1.0  \n",
       "203          720           W          M                   25          0.0  "
      ]
     },
     "execution_count": 246,
     "metadata": {},
     "output_type": "execute_result"
    }
   ],
   "source": [
    "veil_pre.head()"
   ]
  },
  {
   "cell_type": "code",
   "execution_count": null,
   "metadata": {},
   "outputs": [],
   "source": [
    "# looking for average treatment affect"
   ]
  },
  {
   "cell_type": "code",
   "execution_count": 255,
   "metadata": {},
   "outputs": [],
   "source": [
    "def veil_race(df, races=['W', 'B']):\n",
    "    d = df[df['driver_race'].isin(races)]\n",
    "    d['minority'] = d['driver_race'].apply(lambda x: 0 if x == 'W' else 1)\n",
    "    return d"
   ]
  },
  {
   "cell_type": "code",
   "execution_count": 256,
   "metadata": {},
   "outputs": [
    {
     "name": "stderr",
     "output_type": "stream",
     "text": [
      "C:\\Users\\12097\\Anaconda3\\lib\\site-packages\\ipykernel_launcher.py:3: SettingWithCopyWarning: \n",
      "A value is trying to be set on a copy of a slice from a DataFrame.\n",
      "Try using .loc[row_indexer,col_indexer] = value instead\n",
      "\n",
      "See the caveats in the documentation: http://pandas.pydata.org/pandas-docs/stable/user_guide/indexing.html#returning-a-view-versus-a-copy\n",
      "  This is separate from the ipykernel package so we can avoid doing imports until\n"
     ]
    }
   ],
   "source": [
    "v = veil_race(veil_pre)"
   ]
  },
  {
   "cell_type": "code",
   "execution_count": 266,
   "metadata": {},
   "outputs": [],
   "source": [
    "# need total population for minority and non- minority\n",
    "w_pop = 10\n",
    "b_pop = 2"
   ]
  },
  {
   "cell_type": "code",
   "execution_count": 267,
   "metadata": {},
   "outputs": [
    {
     "data": {
      "text/plain": [
       "0.0771742356782428"
      ]
     },
     "execution_count": 267,
     "metadata": {},
     "output_type": "execute_result"
    }
   ],
   "source": [
    "# Stop rates by minority vs not minority:\n",
    "stop_rate(v, 'W') / w_pop"
   ]
  },
  {
   "cell_type": "code",
   "execution_count": 268,
   "metadata": {},
   "outputs": [
    {
     "data": {
      "text/plain": [
       "0.11412882160878599"
      ]
     },
     "execution_count": 268,
     "metadata": {},
     "output_type": "execute_result"
    }
   ],
   "source": [
    "stop_rate(v, 'B') / b_pop"
   ]
  },
  {
   "cell_type": "markdown",
   "metadata": {},
   "source": [
    "# Part 2"
   ]
  },
  {
   "cell_type": "markdown",
   "metadata": {},
   "source": [
    "Develop code to clean data (as defined and justified in Part 1), create the features for the replication, and compute the statistics for the report. Such code should conform to the methodology portion of the course (e.g. using the project template).\n",
    "\n",
    "In particular, your project should have a run.py with the following targets:\n",
    "\n",
    "* data creates the data needed for analysis.\n",
    "* process cleans and prepares the data for analysis (e.g. cleaning and feature creation).\n",
    "* data-test ingests a small amount of test data (that process can then process)."
   ]
  },
  {
   "cell_type": "code",
   "execution_count": null,
   "metadata": {},
   "outputs": [],
   "source": []
  },
  {
   "cell_type": "code",
   "execution_count": null,
   "metadata": {},
   "outputs": [],
   "source": []
  },
  {
   "cell_type": "code",
   "execution_count": null,
   "metadata": {},
   "outputs": [],
   "source": []
  },
  {
   "cell_type": "code",
   "execution_count": null,
   "metadata": {},
   "outputs": [],
   "source": []
  },
  {
   "cell_type": "code",
   "execution_count": null,
   "metadata": {},
   "outputs": [],
   "source": []
  },
  {
   "cell_type": "code",
   "execution_count": null,
   "metadata": {},
   "outputs": [],
   "source": []
  }
 ],
 "metadata": {
  "kernelspec": {
   "display_name": "Python 3",
   "language": "python",
   "name": "python3"
  },
  "language_info": {
   "codemirror_mode": {
    "name": "ipython",
    "version": 3
   },
   "file_extension": ".py",
   "mimetype": "text/x-python",
   "name": "python",
   "nbconvert_exporter": "python",
   "pygments_lexer": "ipython3",
   "version": "3.7.4"
  }
 },
 "nbformat": 4,
 "nbformat_minor": 2
}
