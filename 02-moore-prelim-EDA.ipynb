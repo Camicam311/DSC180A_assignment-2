{
 "cells": [
  {
   "cell_type": "code",
   "execution_count": 1,
   "metadata": {},
   "outputs": [],
   "source": [
    "import geopandas as gpd\n",
    "import pandas as pd\n",
    "import numpy as np\n",
    "import json\n",
    "import os"
   ]
  },
  {
   "cell_type": "code",
   "execution_count": 2,
   "metadata": {},
   "outputs": [],
   "source": [
    "from cleaning import *\n",
    "from etl import *\n",
    "from eda import *"
   ]
  },
  {
   "cell_type": "code",
   "execution_count": 3,
   "metadata": {},
   "outputs": [],
   "source": [
    "import matplotlib.pyplot as plt\n",
    "%matplotlib inline"
   ]
  },
  {
   "cell_type": "markdown",
   "metadata": {},
   "source": [
    "# Cleaning & Descriptive Stats"
   ]
  },
  {
   "cell_type": "markdown",
   "metadata": {},
   "source": [
    "In assignment 1, the data ingestion design kept the following columns for the data pre- 2018:\n",
    "- stop_id\n",
    "- stop_cause\n",
    "- date_stop\n",
    "- time_stop\n",
    "- sd_resident\n",
    "- service_area\n",
    "- subject_sex\n",
    "- arrested\n",
    "- searched\n",
    "- obtained_consent\n",
    "- contraband_found\n",
    "- property_seized\n",
    "    \n",
    "For post- 2018, the columns kept were:\n",
    " - stop_id\n",
    " - stop_cause\n",
    " - date_stop\n",
    " - time_stop\n",
    " - stopduration\n",
    " - beat\n",
    " - service_area\n",
    " - race code\n",
    " - gend\n",
    " - officer_assignment_key\n",
    " - exp_years\n",
    " - perceived_age\n",
    "\n",
    "For the remainder of this assignment, the data we will look at will be from 2015. "
   ]
  },
  {
   "cell_type": "code",
   "execution_count": 4,
   "metadata": {},
   "outputs": [],
   "source": [
    "test = get_table(2015)"
   ]
  },
  {
   "cell_type": "markdown",
   "metadata": {},
   "source": [
    "To assess the quality of the data and justify the cleaning, I looked at the null values and data types."
   ]
  },
  {
   "cell_type": "markdown",
   "metadata": {},
   "source": [
    " For null values, I looked specifically at age and columns that had to do with 'post stop outcomes'. "
   ]
  },
  {
   "cell_type": "code",
   "execution_count": 5,
   "metadata": {},
   "outputs": [
    {
     "data": {
      "text/html": [
       "<div>\n",
       "<style scoped>\n",
       "    .dataframe tbody tr th:only-of-type {\n",
       "        vertical-align: middle;\n",
       "    }\n",
       "\n",
       "    .dataframe tbody tr th {\n",
       "        vertical-align: top;\n",
       "    }\n",
       "\n",
       "    .dataframe thead th {\n",
       "        text-align: right;\n",
       "    }\n",
       "</style>\n",
       "<table border=\"1\" class=\"dataframe\">\n",
       "  <thead>\n",
       "    <tr style=\"text-align: right;\">\n",
       "      <th></th>\n",
       "      <th>searched</th>\n",
       "      <th>obtained_consent</th>\n",
       "      <th>contraband_found</th>\n",
       "      <th>property_seized</th>\n",
       "      <th>arrested</th>\n",
       "    </tr>\n",
       "  </thead>\n",
       "  <tbody>\n",
       "    <tr>\n",
       "      <td>% Null</td>\n",
       "      <td>0.08177</td>\n",
       "      <td>0.949273</td>\n",
       "      <td>0.946899</td>\n",
       "      <td>0.947263</td>\n",
       "      <td>0.076545</td>\n",
       "    </tr>\n",
       "  </tbody>\n",
       "</table>\n",
       "</div>"
      ],
      "text/plain": [
       "        searched  obtained_consent  contraband_found  property_seized  \\\n",
       "% Null   0.08177          0.949273          0.946899         0.947263   \n",
       "\n",
       "        arrested  \n",
       "% Null  0.076545  "
      ]
     },
     "execution_count": 5,
     "metadata": {},
     "output_type": "execute_result"
    }
   ],
   "source": [
    "null_dist(test, ['searched', 'obtained_consent', 'contraband_found', 'property_seized', 'arrested'])"
   ]
  },
  {
   "cell_type": "markdown",
   "metadata": {},
   "source": [
    "According to the data schema, these columns are conditionally null. I.e. obtained_consent, contraband_found, and property_seized will all be null if no search is conducted."
   ]
  },
  {
   "cell_type": "markdown",
   "metadata": {},
   "source": [
    "For data types, I looked mostly at which columns were appropiate to map to boolean values."
   ]
  },
  {
   "cell_type": "code",
   "execution_count": 6,
   "metadata": {},
   "outputs": [
    {
     "data": {
      "text/plain": [
       "stop_id              int64\n",
       "stop_cause          object\n",
       "service_area        object\n",
       "subject_race        object\n",
       "subject_sex         object\n",
       "subject_age         object\n",
       "date_time           object\n",
       "date_stop           object\n",
       "time_stop           object\n",
       "sd_resident         object\n",
       "arrested            object\n",
       "searched            object\n",
       "obtained_consent    object\n",
       "contraband_found    object\n",
       "property_seized     object\n",
       "dtype: object"
      ]
     },
     "execution_count": 6,
     "metadata": {},
     "output_type": "execute_result"
    }
   ],
   "source": [
    "test.dtypes"
   ]
  },
  {
   "cell_type": "markdown",
   "metadata": {},
   "source": [
    "I observed that most of the data types were 'objects' or strings. However, most of these would be better off as numerical (1 or 0) or boolean values for easier analysis. I decided to change to boolean the followign columns:\n",
    "- service_area\n",
    "- subject_age\n",
    "- sd_resdient\n",
    "- arrested\n",
    "- searched\n",
    "- obtained_consent\n",
    "- contraband_found\n",
    "- property_seized"
   ]
  },
  {
   "cell_type": "markdown",
   "metadata": {},
   "source": [
    "Other columns I looked more closly at were race, age, and time."
   ]
  },
  {
   "cell_type": "markdown",
   "metadata": {},
   "source": [
    "#### Observations for Race \n",
    "\n",
    "Accuracy Issuss:\n",
    "- possible misidentifying a subset of people uniformly over time\n",
    "\n",
    "Precision Issues:\n",
    "- not a uniform way to identify bi-racial people"
   ]
  },
  {
   "cell_type": "markdown",
   "metadata": {},
   "source": [
    "##### Age:\n",
    "Right away it was clear that there would be some accuracy and precision issues with age."
   ]
  },
  {
   "cell_type": "code",
   "execution_count": 7,
   "metadata": {},
   "outputs": [
    {
     "data": {
      "text/plain": [
       "array([nan, '26', '40', '37', '29', '23', '24', '31', '60', '54', '42',\n",
       "       '50', '30', '22', '41', '27', '48', '20', '28', '34', '44', '21',\n",
       "       '49', '25', '58', '45', '59', '66', '64', '47', '32', '63', '52',\n",
       "       '57', '70', '35', '19', '68', '55', '62', '65', '53', '46', '38',\n",
       "       '75', '43', '74', '97', '79', '72', '16', '76', '39', '18', '17',\n",
       "       '61', '56', '51', '36', '33', '77', '73', '83', '5', '71', '67',\n",
       "       '69', '81', '78', '90', '213', '80', '222', '84', '88', '85', '0',\n",
       "       '4', '82', '99', '91', '89', '6', '87', '7', '15', '86', '1', '2_',\n",
       "       '93', '3', '8', '4_', 'No Age', '1020', 'y', '223', 'f', '345',\n",
       "       'h', '125', '3.7', 'j', '3_', '243', '224', '399', 'f26', '32`',\n",
       "       '13', '14', '9', '11', 'x', '92', '55Q', 'F48', '456', '2005', '`',\n",
       "       '233', '96', '701', '387', '180', 'f28', 'Y', 'NN', '10', '173',\n",
       "       '2', '98', '94', '100'], dtype=object)"
      ]
     },
     "execution_count": 7,
     "metadata": {},
     "output_type": "execute_result"
    }
   ],
   "source": [
    "test.subject_age.unique()"
   ]
  },
  {
   "cell_type": "code",
   "execution_count": 8,
   "metadata": {},
   "outputs": [],
   "source": [
    "new_age = pd.to_numeric(test.subject_age, errors='coerce').dropna()"
   ]
  },
  {
   "cell_type": "code",
   "execution_count": 9,
   "metadata": {},
   "outputs": [
    {
     "data": {
      "image/png": "[encoded data removed]",
      "text/plain": [
       "<Figure size 576x576 with 1 Axes>"
      ]
     },
     "metadata": {
      "needs_background": "light"
     },
     "output_type": "display_data"
    }
   ],
   "source": [
    "make_hist(new_age, 'Histogram of Ages', 'subject_age')"
   ]
  },
  {
   "cell_type": "markdown",
   "metadata": {},
   "source": [
    "##### Observations for Age:\n",
    "\n",
    "Accuracy Issues:\n",
    "- age was actually 'percieved age' and not exact\n",
    "\n",
    "Precision Issues:\n",
    "- values spikes every 5 years becasue of human guessing bias"
   ]
  },
  {
   "cell_type": "markdown",
   "metadata": {},
   "source": [
    "##### Time:"
   ]
  },
  {
   "cell_type": "code",
   "execution_count": 10,
   "metadata": {},
   "outputs": [
    {
     "data": {
      "image/png": "[encoded data removed]",
      "text/plain": [
       "<Figure size 432x288 with 1 Axes>"
      ]
     },
     "metadata": {
      "needs_background": "light"
     },
     "output_type": "display_data"
    }
   ],
   "source": [
    "plot_minute(test)"
   ]
  },
  {
   "cell_type": "markdown",
   "metadata": {},
   "source": [
    "#### Observations for Time\n",
    "\n",
    "Precision Issues:\n",
    "- values spikes every hour, half hour, 10 minutes, and 5 minutes years becasue of human guessing bias\n",
    "- this is especially impactful when dealing with the inter-twilight period because it is so time sensitive"
   ]
  },
  {
   "cell_type": "markdown",
   "metadata": {},
   "source": [
    "#### Other Notable Cleaning Observations:\n",
    "\n",
    "The remainder of the cleaning performed was done to make the format of the pre- 2018 data match the post- 2018 data. There were differences in the possible values for gender/ sex and race for the different years that had to be mapped and renammed. The beats in the post- 2018 data were mapped to the service areas accordingly. And several columns were conbined to create and 'outcome' variable for each year. The possible values I decided to create were: 'Arrested', 'Property was seized', 'Search of property was conducted', and 'Not Applicable'. The remainder of the possible outcomes made up a small amout of the data but I didnt drop them (just labeled as 'Not Applicable') becasue I did not want lose the data.\n",
    "\n",
    "In pre- 2018, I used to following columns to create outcome: ‘Arrested’, ‘Property_Seized’, and ‘Searched’ \n",
    "\n",
    "In post- 2018, I filtered the ‘action’ and ‘result’ columns to create outcome. "
   ]
  },
  {
   "cell_type": "markdown",
   "metadata": {},
   "source": [
    "##### Cleaned Data"
   ]
  },
  {
   "cell_type": "markdown",
   "metadata": {},
   "source": [
    "Once the initial cleaning was done, I chose to assess the relative columns: 'outcome', 'driver_race', and 'percieved_driver_age'"
   ]
  },
  {
   "cell_type": "code",
   "execution_count": 11,
   "metadata": {},
   "outputs": [],
   "source": [
    "clean = get_data(2015)"
   ]
  },
  {
   "cell_type": "markdown",
   "metadata": {},
   "source": [
    "Overall, the distribution of outcome was as follows"
   ]
  },
  {
   "cell_type": "code",
   "execution_count": 12,
   "metadata": {},
   "outputs": [
    {
     "data": {
      "image/png": "[encoded data removed]",
      "text/plain": [
       "<Figure size 432x288 with 1 Axes>"
      ]
     },
     "metadata": {},
     "output_type": "display_data"
    }
   ],
   "source": [
    "plot_outcomes(clean)"
   ]
  },
  {
   "cell_type": "markdown",
   "metadata": {},
   "source": [
    "For the driver age, I decided to filter the values based on the value counts of that age. In other words, it replaced every 'age' that had less than 10 counts with a nan. This got rid of the ages that contained letters, were greater than 92, and were less than 10."
   ]
  },
  {
   "cell_type": "markdown",
   "metadata": {},
   "source": [
    "Cleaning driver_race was not too difficult. This was becasue the data generating process didn't create many nullor obscure values for race. The only difficulty was deciding how precise to make race identification. For example, the different years had different levels of detail for types of 'Asian' races. I decided to keep the most detailed race codes. \n",
    "\n",
    "For the 2015 data, the distribution of race is as follows:"
   ]
  },
  {
   "cell_type": "code",
   "execution_count": 13,
   "metadata": {},
   "outputs": [
    {
     "data": {
      "image/png": "[encoded data removed]",
      "text/plain": [
       "<Figure size 432x288 with 1 Axes>"
      ]
     },
     "metadata": {
      "needs_background": "light"
     },
     "output_type": "display_data"
    }
   ],
   "source": [
    "plot_races(clean)"
   ]
  },
  {
   "cell_type": "markdown",
   "metadata": {},
   "source": [
    "In descending order, the top 5 most prevalent race codes are:\n",
    "- W: white\n",
    "- H: hispanic\n",
    "- B: black\n",
    "- O: other\n",
    "- A: asian"
   ]
  },
  {
   "cell_type": "markdown",
   "metadata": {},
   "source": [
    "# Traffic Stop Analysis: "
   ]
  },
  {
   "cell_type": "markdown",
   "metadata": {},
   "source": [
    "Our\tstatistical\tanalysis compare the following race categories of drivers:\n",
    "\n",
    "• White\n",
    "\n",
    "• Black\t\n",
    "\n",
    "• Hispanic\n",
    "\n",
    "• Asian"
   ]
  },
  {
   "cell_type": "markdown",
   "metadata": {},
   "source": [
    "##### Stop Rates"
   ]
  },
  {
   "cell_type": "code",
   "execution_count": 14,
   "metadata": {},
   "outputs": [],
   "source": [
    "total_pop_2010 = 3095313"
   ]
  },
  {
   "cell_type": "markdown",
   "metadata": {},
   "source": [
    "Using the total population of San Diego from the 2010 census, we see that the stop rates for White, Hispanic, Black , Other, and Asian drivers (respectively) are as follows:"
   ]
  },
  {
   "cell_type": "code",
   "execution_count": 15,
   "metadata": {},
   "outputs": [
    {
     "data": {
      "text/html": [
       "<div>\n",
       "<style scoped>\n",
       "    .dataframe tbody tr th:only-of-type {\n",
       "        vertical-align: middle;\n",
       "    }\n",
       "\n",
       "    .dataframe tbody tr th {\n",
       "        vertical-align: top;\n",
       "    }\n",
       "\n",
       "    .dataframe thead th {\n",
       "        text-align: right;\n",
       "    }\n",
       "</style>\n",
       "<table border=\"1\" class=\"dataframe\">\n",
       "  <thead>\n",
       "    <tr style=\"text-align: right;\">\n",
       "      <th></th>\n",
       "      <th>W</th>\n",
       "      <th>H</th>\n",
       "      <th>B</th>\n",
       "      <th>O</th>\n",
       "      <th>A</th>\n",
       "    </tr>\n",
       "  </thead>\n",
       "  <tbody>\n",
       "    <tr>\n",
       "      <td>Stop Rates</td>\n",
       "      <td>0.016098</td>\n",
       "      <td>0.011121</td>\n",
       "      <td>0.004002</td>\n",
       "      <td>0.002751</td>\n",
       "      <td>0.001682</td>\n",
       "    </tr>\n",
       "  </tbody>\n",
       "</table>\n",
       "</div>"
      ],
      "text/plain": [
       "                   W         H         B         O         A\n",
       "Stop Rates  0.016098  0.011121  0.004002  0.002751  0.001682"
      ]
     },
     "execution_count": 15,
     "metadata": {},
     "output_type": "execute_result"
    }
   ],
   "source": [
    "get_stop_rates(clean)"
   ]
  },
  {
   "cell_type": "markdown",
   "metadata": {},
   "source": [
    "##### Post- Stop Outcomes"
   ]
  },
  {
   "cell_type": "code",
   "execution_count": 16,
   "metadata": {},
   "outputs": [
    {
     "data": {
      "text/html": [
       "<div>\n",
       "<style scoped>\n",
       "    .dataframe tbody tr th:only-of-type {\n",
       "        vertical-align: middle;\n",
       "    }\n",
       "\n",
       "    .dataframe tbody tr th {\n",
       "        vertical-align: top;\n",
       "    }\n",
       "\n",
       "    .dataframe thead th {\n",
       "        text-align: right;\n",
       "    }\n",
       "</style>\n",
       "<table border=\"1\" class=\"dataframe\">\n",
       "  <thead>\n",
       "    <tr style=\"text-align: right;\">\n",
       "      <th></th>\n",
       "      <th>Not Applicable</th>\n",
       "      <th>Search of property was conducted</th>\n",
       "      <th>Arrested</th>\n",
       "      <th>Property was seized</th>\n",
       "    </tr>\n",
       "  </thead>\n",
       "  <tbody>\n",
       "    <tr>\n",
       "      <td>White</td>\n",
       "      <td>0.437481</td>\n",
       "      <td>0.262311</td>\n",
       "      <td>0.412946</td>\n",
       "      <td>0.266055</td>\n",
       "    </tr>\n",
       "    <tr>\n",
       "      <td>Black</td>\n",
       "      <td>0.102698</td>\n",
       "      <td>0.251149</td>\n",
       "      <td>0.160714</td>\n",
       "      <td>0.140673</td>\n",
       "    </tr>\n",
       "    <tr>\n",
       "      <td>Hispanic</td>\n",
       "      <td>0.294794</td>\n",
       "      <td>0.393959</td>\n",
       "      <td>0.334077</td>\n",
       "      <td>0.510703</td>\n",
       "    </tr>\n",
       "    <tr>\n",
       "      <td>Asian</td>\n",
       "      <td>0.046110</td>\n",
       "      <td>0.023309</td>\n",
       "      <td>0.022321</td>\n",
       "      <td>0.018349</td>\n",
       "    </tr>\n",
       "  </tbody>\n",
       "</table>\n",
       "</div>"
      ],
      "text/plain": [
       "          Not Applicable  Search of property was conducted  Arrested  \\\n",
       "White           0.437481                          0.262311  0.412946   \n",
       "Black           0.102698                          0.251149  0.160714   \n",
       "Hispanic        0.294794                          0.393959  0.334077   \n",
       "Asian           0.046110                          0.023309  0.022321   \n",
       "\n",
       "          Property was seized  \n",
       "White                0.266055  \n",
       "Black                0.140673  \n",
       "Hispanic             0.510703  \n",
       "Asian                0.018349  "
      ]
     },
     "execution_count": 16,
     "metadata": {},
     "output_type": "execute_result"
    }
   ],
   "source": [
    "pd.DataFrame({'White': outcome_dist(clean, 'W').values, 'Black': outcome_dist(clean, 'B').values, 'Hispanic': outcome_dist(clean, 'H').values, 'Asian': outcome_dist(clean, 'A').values}, index = outcome_dist(clean, 'W').index).T"
   ]
  },
  {
   "cell_type": "markdown",
   "metadata": {},
   "source": [
    "##### Analysis: \n",
    "\n",
    "It is important to explore possible reasons for such differences, including addressing possible confounders. \n",
    "\n",
    "What may be causing these differences?\n",
    "\n",
    "- Differential criminality\n",
    "- Social and economic disadvantages\n",
    "- “Bad Apple” police\n",
    "- Widely shared but individually subtle differences in how white and majority drivers are treated following a traffic stop\n",
    "- Implicit bias, consequence of years of exposure to associations in the environment \n",
    "- Institutional practices which lead to radical differences in outcomes"
   ]
  },
  {
   "cell_type": "markdown",
   "metadata": {},
   "source": [
    "# Veil of Darkness:\n",
    "\n",
    "The ‘Veil of Darkness’ technique attempts to examine the effect of the drivers’ race/ ethnicity f the likelihood that they will be pulled over. This technique assumes that officers who engage in racial profiling are less likely to see the drivers' race when it is dark out (i.e. low visibility).\n",
    "\n",
    "Using this assumption, if stops during dark had a smaller proportion of minority drivers stopped than during light, it would be evidence of racial profiling.\n",
    "\n",
    "The time period that is used to examine this effect is known as the ‘inter- twilights period’, the time between the earliest and latest civil twilight. In San Diego, for 2015, this was 5:09pm - 8:29pm."
   ]
  },
  {
   "cell_type": "code",
   "execution_count": 19,
   "metadata": {},
   "outputs": [],
   "source": [
    "inter_twilight = get_veil(clean);"
   ]
  },
  {
   "cell_type": "code",
   "execution_count": 18,
   "metadata": {},
   "outputs": [
    {
     "data": {
      "text/html": [
       "<div>\n",
       "<style scoped>\n",
       "    .dataframe tbody tr th:only-of-type {\n",
       "        vertical-align: middle;\n",
       "    }\n",
       "\n",
       "    .dataframe tbody tr th {\n",
       "        vertical-align: top;\n",
       "    }\n",
       "\n",
       "    .dataframe thead th {\n",
       "        text-align: right;\n",
       "    }\n",
       "</style>\n",
       "<table border=\"1\" class=\"dataframe\">\n",
       "  <thead>\n",
       "    <tr style=\"text-align: right;\">\n",
       "      <th></th>\n",
       "      <th>W</th>\n",
       "      <th>H</th>\n",
       "      <th>B</th>\n",
       "      <th>O</th>\n",
       "      <th>A</th>\n",
       "    </tr>\n",
       "  </thead>\n",
       "  <tbody>\n",
       "    <tr>\n",
       "      <td>Stop Rates</td>\n",
       "      <td>0.00168</td>\n",
       "      <td>0.001378</td>\n",
       "      <td>0.000497</td>\n",
       "      <td>0.000345</td>\n",
       "      <td>0.000186</td>\n",
       "    </tr>\n",
       "  </tbody>\n",
       "</table>\n",
       "</div>"
      ],
      "text/plain": [
       "                  W         H         B         O         A\n",
       "Stop Rates  0.00168  0.001378  0.000497  0.000345  0.000186"
      ]
     },
     "execution_count": 18,
     "metadata": {},
     "output_type": "execute_result"
    }
   ],
   "source": [
    "get_stop_rates(inter_twilight)"
   ]
  },
  {
   "cell_type": "markdown",
   "metadata": {},
   "source": [
    "##### Result Notes on Interpretation:\n",
    "Before making any causal assumptions, it is important to note some caveats to this technique. These include but are not limited to:\n",
    "\n",
    "-\tvehicle make, year, and model often correlate with race and are still visible at night, which could lead to the test under-estimating the extent of racial profiling\n",
    "-\tthe influence of artificial lighting is not accounted for\n",
    "-\tand this technique is not necessarily comparable under the context of other hours of the day (i.e. it is not necessarily a representative sample)"
   ]
  },
  {
   "cell_type": "code",
   "execution_count": null,
   "metadata": {},
   "outputs": [],
   "source": []
  }
 ],
 "metadata": {
  "kernelspec": {
   "display_name": "Python 3",
   "language": "python",
   "name": "python3"
  },
  "language_info": {
   "codemirror_mode": {
    "name": "ipython",
    "version": 3
   },
   "file_extension": ".py",
   "mimetype": "text/x-python",
   "name": "python",
   "nbconvert_exporter": "python",
   "pygments_lexer": "ipython3",
   "version": "3.7.4"
  }
 },
 "nbformat": 4,
 "nbformat_minor": 2
}
